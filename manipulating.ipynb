{
 "cells": [
  {
   "cell_type": "markdown",
   "metadata": {},
   "source": [
    "#### Open()\n",
    "Builtin function opens a file and returns a file object. \n",
    "\n",
    "r-> the file will be available for reading only \n",
    "w-> the file will be available for writing only \n",
    "a-> the file will be available for appending only \n",
    "r+/w+/a+-> the file will be available for both reading\n",
    "\n",
    "\n",
    "#### Write()\n",
    "Writes a single line in a file.\n",
    "\n",
    "#### Writelines()\n",
    "Write multiple lines in a file.\n",
    "\n",
    "#### Read()\n",
    "Reading the file data\n",
    "\n",
    "#### Close()\n",
    "Closing the files\n",
    "\n",
    "#### Move() \n",
    "Move a file or folder from one location to the other using shutil library\n",
    "\n",
    "#### Copy() \n",
    "Copy a file or folder from one location and pasteing to the other using shutil library\n",
    "\n",
    "#### Rename() \n",
    "Renaming a file or folder using os library\n",
    "\n",
    "#### Remove() \n",
    "Deleting a file or folder using os library\n"
   ]
  },
  {
   "cell_type": "code",
   "execution_count": 33,
   "metadata": {},
   "outputs": [],
   "source": [
    "x.close()\n",
    "x = open(\"C:\\\\Users\\\\Manipulating Files and Folders\\\\Files\\\\sample.txt\",'w')  \n",
    "\n",
    "#If there is no such file python creates a file with given name to the location"
   ]
  },
  {
   "cell_type": "code",
   "execution_count": 34,
   "metadata": {},
   "outputs": [],
   "source": [
    "x.write(\"Hello!!\")\n",
    "\n",
    "#to write multiple lines; create a list of item.\n",
    "line_list=[\"How are you? \\n\",\"How is the weather today? \\n\",\"Can we have meet and greet sometime? \\n\"]\n",
    "x.writelines(line_list)"
   ]
  },
  {
   "cell_type": "code",
   "execution_count": 35,
   "metadata": {},
   "outputs": [],
   "source": [
    "#appening\n",
    "x = open(\"C:\\\\Users\\\\Manipulating Files and Folders\\\\Files\\\\sample.txt\",'a') #file opened for appending\n",
    "\n",
    "line_list=[\"It has been a long time we had some fun. \\n\",\"Can we make plan for next saturday\\n\"]\n",
    "x.writelines(line_list)"
   ]
  },
  {
   "cell_type": "code",
   "execution_count": 13,
   "metadata": {},
   "outputs": [],
   "source": [
    "# use case\n",
    "# one file has data for starting 15 days of a month and other file has data for next 15 days of a month\n",
    "# you want to update the data in the older file.\n",
    "\n",
    "#open the first file in append mode\n",
    "y = open(\"C:\\\\Users\\\\sample1.txt\",'a')\n",
    "\n",
    "#open the second file in read mode - this is file created above\n",
    "z = open(\"C:\\\\Users\\\\sample.txt\",'r')\n",
    "\n",
    "#read data from second file\n",
    "data = z.read()\n",
    "\n",
    "##append the info data in the first file\n",
    "y.write(data)\n",
    "\n",
    "#close both the files\n",
    "y.close()\n",
    "z.close()"
   ]
  },
  {
   "cell_type": "code",
   "execution_count": null,
   "metadata": {},
   "outputs": [],
   "source": [
    "#Moving a file\n",
    "\n",
    "import os\n",
    "import shutil\n",
    "\n",
    "# new directory formation-> os.mkdir(\"new_directiry_path\")\n",
    "os.mkdir(\"C:\\\\Users\\\\Manipulating Files and Folders\\\\Files\")\n",
    "shutil.move(\"C:\\\\Users\\\\sample.txt\",\n",
    "            \"C:\\\\Users\\\\Manipulating Files and Folders\\\\Files\\\\sample.txt\")\n",
    "\n",
    "\n",
    "#Copying a file and pasting\n",
    "shutil.copy(\"C:\\\\Users\\\\sample1.txt\",\n",
    "            \"C:\\\\Users\\\\Manipulating Files and Folders\\\\Files\\\\sample1.txt\")\n",
    "\n",
    "#Copying multiple files\n",
    "#create a list of files to copy and use copy function with argument list and location in a loop\n",
    "\n",
    "file_list = [\"C:\\\\...\",\"C:\\\\...\"]\n",
    "\n",
    "for file in file_list:\n",
    "    shutil.copy(file,\"C:\\\\Manipulating Files and Folders\")\n"
   ]
  },
  {
   "cell_type": "code",
   "execution_count": 20,
   "metadata": {},
   "outputs": [],
   "source": [
    "#Renaming a file\n",
    "os.rename(\"C:\\\\Users\\\\Manipulating Files and Folders\\\\Files\\\\sample1.txt\",\n",
    "          \"C:\\\\Users\\\\Manipulating Files and Folders\\\\Files\\\\sample2.txt\")\n",
    "\n",
    "#Renaminging multiple files\n",
    "#create a list of files to rename and use renamefunction with argument list and location in a loop\n"
   ]
  },
  {
   "cell_type": "code",
   "execution_count": 26,
   "metadata": {},
   "outputs": [],
   "source": [
    "#Deletinging a file\n",
    "os.remove(\"C:\\\\Users\\\\Manipulating Files and Folders\\\\Files\\\\sample3.txt\")\n"
   ]
  }
 ],
 "metadata": {
  "kernelspec": {
   "display_name": "Python 3",
   "language": "python",
   "name": "python3"
  },
  "language_info": {
   "codemirror_mode": {
    "name": "ipython",
    "version": 3
   },
   "file_extension": ".py",
   "mimetype": "text/x-python",
   "name": "python",
   "nbconvert_exporter": "python",
   "pygments_lexer": "ipython3",
   "version": "3.7.1"
  }
 },
 "nbformat": 4,
 "nbformat_minor": 2
}
